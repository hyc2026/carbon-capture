{
 "cells": [
  {
   "cell_type": "code",
   "execution_count": 1,
   "metadata": {},
   "outputs": [],
   "source": [
    "import sys\n",
    "\n",
    "sys.path.append(\"game\")\n",
    "\n",
    "import torch\n",
    "\n",
    "from zerosum_env import make, evaluate\n",
    "from zerosum_env.envs.carbon.helpers import *\n",
    "\n",
    "from algorithms.planning_policy import PlanningPolicy\n",
    "\n",
    "policy=PlanningPolicy()\n"
   ]
  },
  {
   "cell_type": "code",
   "execution_count": 5,
   "metadata": {
    "pycharm": {
     "name": "#%%\n"
    },
    "tags": []
   },
   "outputs": [],
   "source": [
    "policy.restore(torch.load(\"model.pth\"))\n",
    "\n",
    "logs = []\n",
    "env = make(\"carbon\", configuration={\"randomSeed\":1}, logs=logs)\n",
    "env.reset()\n",
    "\n",
    "info = env.run([policy.take_action, \"random\"])\n",
    "\n",
    "env.render(mode=\"ipython\", width=1000, height=700)\n",
    "\n",
    "# print(logs)\n",
    "player_a, player_b = info[-1]\n",
    "if player_a['reward'] == player_b['reward']:\n",
    "    print(\"平局!\")\n",
    "elif player_a['reward'] is None:\n",
    "    print(f\"队伍B获胜 ({player_b['reward']})!\")\n",
    "elif player_b['reward'] is None:\n",
    "    print(f\"队伍A获胜 ({player_a['reward']})!\")\n",
    "elif player_a['reward'] > player_b['reward']:\n",
    "    print(f\"队伍A获胜 ({player_a['reward']})!\")\n",
    "else:\n",
    "    print(f\"队伍B获胜 ({player_b['reward']})!\")"
   ]
  }
 ],
 "metadata": {
  "interpreter": {
   "hash": "67fd373fc8b72f97538ed934af6ec6418188ff424d55a40bb79589bf499744bd"
  },
  "kernelspec": {
   "display_name": "Python 3.7.11 64-bit ('carbon_baseline_cuda': conda)",
   "name": "python3"
  },
  "language_info": {
   "codemirror_mode": {
    "name": "ipython",
    "version": 3
   },
   "file_extension": ".py",
   "mimetype": "text/x-python",
   "name": "python",
   "nbconvert_exporter": "python",
   "pygments_lexer": "ipython3",
   "version": "3.7.11"
  }
 },
 "nbformat": 4,
 "nbformat_minor": 4
}
